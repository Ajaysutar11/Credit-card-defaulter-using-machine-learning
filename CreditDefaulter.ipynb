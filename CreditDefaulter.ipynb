{
 "cells": [
  {
   "cell_type": "code",
   "execution_count": 1,
   "id": "78c97f5c",
   "metadata": {},
   "outputs": [],
   "source": [
    "import pandas as pd \n",
    "import numpy as np\n",
    "from sklearn.preprocessing import MinMaxScaler, OneHotEncoder\n",
    "from sklearn.impute import SimpleImputer\n",
    "from sklearn.linear_model import LinearRegression\n",
    "from sklearn.neighbors import KNeighborsRegressor\n",
    "from sklearn.tree import DecisionTreeRegressor\n",
    "from sklearn.ensemble import RandomForestRegressor \n",
    "from sklearn.model_selection import GridSearchCV,RandomizedSearchCV\n",
    "from sklearn.svm import SVC"
   ]
  },
  {
   "cell_type": "code",
   "execution_count": 2,
   "id": "641a62bc",
   "metadata": {},
   "outputs": [],
   "source": [
    "df_train=pd.read_csv('cc_train.csv')\n",
    "df_test=pd.read_csv('cc_test.csv')"
   ]
  },
  {
   "cell_type": "code",
   "execution_count": 4,
   "id": "fae6993d",
   "metadata": {},
   "outputs": [
    {
     "data": {
      "text/html": [
       "<div>\n",
       "<style scoped>\n",
       "    .dataframe tbody tr th:only-of-type {\n",
       "        vertical-align: middle;\n",
       "    }\n",
       "\n",
       "    .dataframe tbody tr th {\n",
       "        vertical-align: top;\n",
       "    }\n",
       "\n",
       "    .dataframe thead th {\n",
       "        text-align: right;\n",
       "    }\n",
       "</style>\n",
       "<table border=\"1\" class=\"dataframe\">\n",
       "  <thead>\n",
       "    <tr style=\"text-align: right;\">\n",
       "      <th></th>\n",
       "      <th>LIMIT_BAL</th>\n",
       "      <th>AGE</th>\n",
       "      <th>PAY_0</th>\n",
       "      <th>PAY_2</th>\n",
       "      <th>PAY_3</th>\n",
       "      <th>PAY_4</th>\n",
       "      <th>PAY_5</th>\n",
       "      <th>PAY_6</th>\n",
       "      <th>BILL_AMT1</th>\n",
       "      <th>BILL_AMT2</th>\n",
       "      <th>...</th>\n",
       "      <th>PAY_AMT2</th>\n",
       "      <th>PAY_AMT3</th>\n",
       "      <th>PAY_AMT4</th>\n",
       "      <th>PAY_AMT5</th>\n",
       "      <th>PAY_AMT6</th>\n",
       "      <th>GENDER</th>\n",
       "      <th>QUALIFICATION</th>\n",
       "      <th>MARRIED</th>\n",
       "      <th>defaulter</th>\n",
       "      <th>Id</th>\n",
       "    </tr>\n",
       "  </thead>\n",
       "  <tbody>\n",
       "    <tr>\n",
       "      <th>0</th>\n",
       "      <td>290000.0</td>\n",
       "      <td>50</td>\n",
       "      <td>-1.0</td>\n",
       "      <td>-1.0</td>\n",
       "      <td>-1.0</td>\n",
       "      <td>-1.0</td>\n",
       "      <td>-1.0</td>\n",
       "      <td>-1.0</td>\n",
       "      <td>NaN</td>\n",
       "      <td>199.0</td>\n",
       "      <td>...</td>\n",
       "      <td>1440.0</td>\n",
       "      <td>1017.0</td>\n",
       "      <td>3798.0</td>\n",
       "      <td>4898</td>\n",
       "      <td>5034.0</td>\n",
       "      <td>FEMALE</td>\n",
       "      <td>2</td>\n",
       "      <td>1.0</td>\n",
       "      <td>0</td>\n",
       "      <td>1</td>\n",
       "    </tr>\n",
       "    <tr>\n",
       "      <th>1</th>\n",
       "      <td>20000.0</td>\n",
       "      <td>49</td>\n",
       "      <td>0.0</td>\n",
       "      <td>0.0</td>\n",
       "      <td>0.0</td>\n",
       "      <td>0.0</td>\n",
       "      <td>NaN</td>\n",
       "      <td>0.0</td>\n",
       "      <td>19773.0</td>\n",
       "      <td>18459.0</td>\n",
       "      <td>...</td>\n",
       "      <td>1270.0</td>\n",
       "      <td>633.0</td>\n",
       "      <td>655.0</td>\n",
       "      <td>759</td>\n",
       "      <td>547.0</td>\n",
       "      <td>FEMALE</td>\n",
       "      <td>2</td>\n",
       "      <td>3.0</td>\n",
       "      <td>1</td>\n",
       "      <td>2</td>\n",
       "    </tr>\n",
       "    <tr>\n",
       "      <th>2</th>\n",
       "      <td>230000.0</td>\n",
       "      <td>28</td>\n",
       "      <td>0.0</td>\n",
       "      <td>0.0</td>\n",
       "      <td>0.0</td>\n",
       "      <td>0.0</td>\n",
       "      <td>0.0</td>\n",
       "      <td>0.0</td>\n",
       "      <td>20356.0</td>\n",
       "      <td>21504.0</td>\n",
       "      <td>...</td>\n",
       "      <td>1700.0</td>\n",
       "      <td>2007.0</td>\n",
       "      <td>1000.0</td>\n",
       "      <td>1000</td>\n",
       "      <td>1000.0</td>\n",
       "      <td>FEMALE</td>\n",
       "      <td>1</td>\n",
       "      <td>2.0</td>\n",
       "      <td>0</td>\n",
       "      <td>3</td>\n",
       "    </tr>\n",
       "    <tr>\n",
       "      <th>3</th>\n",
       "      <td>210000.0</td>\n",
       "      <td>31</td>\n",
       "      <td>-1.0</td>\n",
       "      <td>-1.0</td>\n",
       "      <td>-1.0</td>\n",
       "      <td>-1.0</td>\n",
       "      <td>-1.0</td>\n",
       "      <td>-1.0</td>\n",
       "      <td>8600.0</td>\n",
       "      <td>0.0</td>\n",
       "      <td>...</td>\n",
       "      <td>4231.0</td>\n",
       "      <td>4221.0</td>\n",
       "      <td>4221.0</td>\n",
       "      <td>4483</td>\n",
       "      <td>4300.0</td>\n",
       "      <td>FEMALE</td>\n",
       "      <td>1</td>\n",
       "      <td>1.0</td>\n",
       "      <td>0</td>\n",
       "      <td>4</td>\n",
       "    </tr>\n",
       "    <tr>\n",
       "      <th>4</th>\n",
       "      <td>300000.0</td>\n",
       "      <td>24</td>\n",
       "      <td>-2.0</td>\n",
       "      <td>-2.0</td>\n",
       "      <td>-2.0</td>\n",
       "      <td>-2.0</td>\n",
       "      <td>-1.0</td>\n",
       "      <td>-1.0</td>\n",
       "      <td>-158.0</td>\n",
       "      <td>-158.0</td>\n",
       "      <td>...</td>\n",
       "      <td>0.0</td>\n",
       "      <td>0.0</td>\n",
       "      <td>300.0</td>\n",
       "      <td>100</td>\n",
       "      <td>100.0</td>\n",
       "      <td>MALE</td>\n",
       "      <td>2</td>\n",
       "      <td>2.0</td>\n",
       "      <td>0</td>\n",
       "      <td>5</td>\n",
       "    </tr>\n",
       "  </tbody>\n",
       "</table>\n",
       "<p>5 rows × 25 columns</p>\n",
       "</div>"
      ],
      "text/plain": [
       "   LIMIT_BAL  AGE  PAY_0  PAY_2  PAY_3  PAY_4  PAY_5  PAY_6  BILL_AMT1  \\\n",
       "0   290000.0   50   -1.0   -1.0   -1.0   -1.0   -1.0   -1.0        NaN   \n",
       "1    20000.0   49    0.0    0.0    0.0    0.0    NaN    0.0    19773.0   \n",
       "2   230000.0   28    0.0    0.0    0.0    0.0    0.0    0.0    20356.0   \n",
       "3   210000.0   31   -1.0   -1.0   -1.0   -1.0   -1.0   -1.0     8600.0   \n",
       "4   300000.0   24   -2.0   -2.0   -2.0   -2.0   -1.0   -1.0     -158.0   \n",
       "\n",
       "   BILL_AMT2  ...  PAY_AMT2  PAY_AMT3  PAY_AMT4  PAY_AMT5  PAY_AMT6  GENDER  \\\n",
       "0      199.0  ...    1440.0    1017.0    3798.0      4898    5034.0  FEMALE   \n",
       "1    18459.0  ...    1270.0     633.0     655.0       759     547.0  FEMALE   \n",
       "2    21504.0  ...    1700.0    2007.0    1000.0      1000    1000.0  FEMALE   \n",
       "3        0.0  ...    4231.0    4221.0    4221.0      4483    4300.0  FEMALE   \n",
       "4     -158.0  ...       0.0       0.0     300.0       100     100.0    MALE   \n",
       "\n",
       "   QUALIFICATION  MARRIED  defaulter  Id  \n",
       "0              2      1.0          0   1  \n",
       "1              2      3.0          1   2  \n",
       "2              1      2.0          0   3  \n",
       "3              1      1.0          0   4  \n",
       "4              2      2.0          0   5  \n",
       "\n",
       "[5 rows x 25 columns]"
      ]
     },
     "execution_count": 4,
     "metadata": {},
     "output_type": "execute_result"
    }
   ],
   "source": [
    "df_train.head()"
   ]
  },
  {
   "cell_type": "code",
   "execution_count": 4,
   "id": "861d49e3",
   "metadata": {},
   "outputs": [
    {
     "data": {
      "text/plain": [
       "2    9371\n",
       "1    7072\n",
       "3    3256\n",
       "5     180\n",
       "4      81\n",
       "6      34\n",
       "0       6\n",
       "Name: QUALIFICATION, dtype: int64"
      ]
     },
     "execution_count": 4,
     "metadata": {},
     "output_type": "execute_result"
    }
   ],
   "source": [
    "df_train['QUALIFICATION'].value_counts()"
   ]
  },
  {
   "cell_type": "code",
   "execution_count": 5,
   "id": "70d92b70",
   "metadata": {},
   "outputs": [
    {
     "name": "stdout",
     "output_type": "stream",
     "text": [
      "<class 'pandas.core.frame.DataFrame'>\n",
      "RangeIndex: 20000 entries, 0 to 19999\n",
      "Data columns (total 25 columns):\n",
      " #   Column         Non-Null Count  Dtype  \n",
      "---  ------         --------------  -----  \n",
      " 0   LIMIT_BAL      18700 non-null  float64\n",
      " 1   AGE            20000 non-null  int64  \n",
      " 2   PAY_0          19344 non-null  float64\n",
      " 3   PAY_2          18141 non-null  float64\n",
      " 4   PAY_3          18751 non-null  float64\n",
      " 5   PAY_4          19316 non-null  float64\n",
      " 6   PAY_5          19323 non-null  float64\n",
      " 7   PAY_6          18655 non-null  float64\n",
      " 8   BILL_AMT1      18130 non-null  float64\n",
      " 9   BILL_AMT2      18681 non-null  float64\n",
      " 10  BILL_AMT3      19323 non-null  float64\n",
      " 11  BILL_AMT4      20000 non-null  int64  \n",
      " 12  BILL_AMT5      19318 non-null  float64\n",
      " 13  BILL_AMT6      20000 non-null  int64  \n",
      " 14  PAY_AMT1       18690 non-null  float64\n",
      " 15  PAY_AMT2       18763 non-null  float64\n",
      " 16  PAY_AMT3       18691 non-null  float64\n",
      " 17  PAY_AMT4       19318 non-null  float64\n",
      " 18  PAY_AMT5       20000 non-null  int64  \n",
      " 19  PAY_AMT6       19312 non-null  float64\n",
      " 20  GENDER         20000 non-null  object \n",
      " 21  QUALIFICATION  20000 non-null  int64  \n",
      " 22  MARRIED        18674 non-null  float64\n",
      " 23  defaulter      20000 non-null  int64  \n",
      " 24  Id             20000 non-null  int64  \n",
      "dtypes: float64(17), int64(7), object(1)\n",
      "memory usage: 3.8+ MB\n"
     ]
    }
   ],
   "source": [
    "df_train.info()"
   ]
  },
  {
   "cell_type": "code",
   "execution_count": 6,
   "id": "541905cd",
   "metadata": {},
   "outputs": [
    {
     "data": {
      "text/plain": [
       "Index(['LIMIT_BAL', 'AGE', 'PAY_0', 'PAY_2', 'PAY_3', 'PAY_4', 'PAY_5',\n",
       "       'PAY_6', 'BILL_AMT1', 'BILL_AMT2', 'BILL_AMT3', 'BILL_AMT4',\n",
       "       'BILL_AMT5', 'BILL_AMT6', 'PAY_AMT1', 'PAY_AMT2', 'PAY_AMT3',\n",
       "       'PAY_AMT4', 'PAY_AMT5', 'PAY_AMT6', 'GENDER', 'QUALIFICATION',\n",
       "       'MARRIED', 'defaulter', 'Id'],\n",
       "      dtype='object')"
      ]
     },
     "execution_count": 6,
     "metadata": {},
     "output_type": "execute_result"
    }
   ],
   "source": [
    "df_train.columns"
   ]
  },
  {
   "cell_type": "markdown",
   "id": "0910774f",
   "metadata": {},
   "source": [
    "# Outlier Detection"
   ]
  },
  {
   "cell_type": "code",
   "execution_count": 7,
   "id": "e3bf9638",
   "metadata": {},
   "outputs": [],
   "source": [
    "bins=np.linspace(df_train['LIMIT_BAL'].min(),df_train['LIMIT_BAL'].max(),6)"
   ]
  },
  {
   "cell_type": "code",
   "execution_count": 8,
   "id": "61b79a01",
   "metadata": {},
   "outputs": [
    {
     "data": {
      "text/plain": [
       "array([  10000.,  208000.,  406000.,  604000.,  802000., 1000000.])"
      ]
     },
     "execution_count": 8,
     "metadata": {},
     "output_type": "execute_result"
    }
   ],
   "source": [
    "bins"
   ]
  },
  {
   "cell_type": "code",
   "execution_count": 9,
   "id": "20b694d6",
   "metadata": {},
   "outputs": [],
   "source": [
    "z_Score = (df_train['defaulter'] - df_train['defaulter'].mean())/df_train['defaulter'].std()\n",
    "    \n",
    "df_train = df_train[((z_Score >-3) & (z_Score <=3))]"
   ]
  },
  {
   "cell_type": "code",
   "execution_count": 10,
   "id": "b9c5cf12",
   "metadata": {},
   "outputs": [
    {
     "data": {
      "text/html": [
       "<div>\n",
       "<style scoped>\n",
       "    .dataframe tbody tr th:only-of-type {\n",
       "        vertical-align: middle;\n",
       "    }\n",
       "\n",
       "    .dataframe tbody tr th {\n",
       "        vertical-align: top;\n",
       "    }\n",
       "\n",
       "    .dataframe thead th {\n",
       "        text-align: right;\n",
       "    }\n",
       "</style>\n",
       "<table border=\"1\" class=\"dataframe\">\n",
       "  <thead>\n",
       "    <tr style=\"text-align: right;\">\n",
       "      <th></th>\n",
       "      <th>LIMIT_BAL</th>\n",
       "      <th>AGE</th>\n",
       "      <th>PAY_0</th>\n",
       "      <th>PAY_2</th>\n",
       "      <th>PAY_3</th>\n",
       "      <th>PAY_4</th>\n",
       "      <th>PAY_5</th>\n",
       "      <th>PAY_6</th>\n",
       "      <th>BILL_AMT1</th>\n",
       "      <th>BILL_AMT2</th>\n",
       "      <th>...</th>\n",
       "      <th>PAY_AMT2</th>\n",
       "      <th>PAY_AMT3</th>\n",
       "      <th>PAY_AMT4</th>\n",
       "      <th>PAY_AMT5</th>\n",
       "      <th>PAY_AMT6</th>\n",
       "      <th>GENDER</th>\n",
       "      <th>QUALIFICATION</th>\n",
       "      <th>MARRIED</th>\n",
       "      <th>defaulter</th>\n",
       "      <th>Id</th>\n",
       "    </tr>\n",
       "  </thead>\n",
       "  <tbody>\n",
       "    <tr>\n",
       "      <th>0</th>\n",
       "      <td>290000.0</td>\n",
       "      <td>50</td>\n",
       "      <td>-1.0</td>\n",
       "      <td>-1.0</td>\n",
       "      <td>-1.0</td>\n",
       "      <td>-1.0</td>\n",
       "      <td>-1.0</td>\n",
       "      <td>-1.0</td>\n",
       "      <td>NaN</td>\n",
       "      <td>199.0</td>\n",
       "      <td>...</td>\n",
       "      <td>1440.0</td>\n",
       "      <td>1017.0</td>\n",
       "      <td>3798.0</td>\n",
       "      <td>4898</td>\n",
       "      <td>5034.0</td>\n",
       "      <td>FEMALE</td>\n",
       "      <td>2</td>\n",
       "      <td>1.0</td>\n",
       "      <td>0</td>\n",
       "      <td>1</td>\n",
       "    </tr>\n",
       "    <tr>\n",
       "      <th>1</th>\n",
       "      <td>20000.0</td>\n",
       "      <td>49</td>\n",
       "      <td>0.0</td>\n",
       "      <td>0.0</td>\n",
       "      <td>0.0</td>\n",
       "      <td>0.0</td>\n",
       "      <td>NaN</td>\n",
       "      <td>0.0</td>\n",
       "      <td>19773.0</td>\n",
       "      <td>18459.0</td>\n",
       "      <td>...</td>\n",
       "      <td>1270.0</td>\n",
       "      <td>633.0</td>\n",
       "      <td>655.0</td>\n",
       "      <td>759</td>\n",
       "      <td>547.0</td>\n",
       "      <td>FEMALE</td>\n",
       "      <td>2</td>\n",
       "      <td>3.0</td>\n",
       "      <td>1</td>\n",
       "      <td>2</td>\n",
       "    </tr>\n",
       "    <tr>\n",
       "      <th>2</th>\n",
       "      <td>230000.0</td>\n",
       "      <td>28</td>\n",
       "      <td>0.0</td>\n",
       "      <td>0.0</td>\n",
       "      <td>0.0</td>\n",
       "      <td>0.0</td>\n",
       "      <td>0.0</td>\n",
       "      <td>0.0</td>\n",
       "      <td>20356.0</td>\n",
       "      <td>21504.0</td>\n",
       "      <td>...</td>\n",
       "      <td>1700.0</td>\n",
       "      <td>2007.0</td>\n",
       "      <td>1000.0</td>\n",
       "      <td>1000</td>\n",
       "      <td>1000.0</td>\n",
       "      <td>FEMALE</td>\n",
       "      <td>1</td>\n",
       "      <td>2.0</td>\n",
       "      <td>0</td>\n",
       "      <td>3</td>\n",
       "    </tr>\n",
       "    <tr>\n",
       "      <th>3</th>\n",
       "      <td>210000.0</td>\n",
       "      <td>31</td>\n",
       "      <td>-1.0</td>\n",
       "      <td>-1.0</td>\n",
       "      <td>-1.0</td>\n",
       "      <td>-1.0</td>\n",
       "      <td>-1.0</td>\n",
       "      <td>-1.0</td>\n",
       "      <td>8600.0</td>\n",
       "      <td>0.0</td>\n",
       "      <td>...</td>\n",
       "      <td>4231.0</td>\n",
       "      <td>4221.0</td>\n",
       "      <td>4221.0</td>\n",
       "      <td>4483</td>\n",
       "      <td>4300.0</td>\n",
       "      <td>FEMALE</td>\n",
       "      <td>1</td>\n",
       "      <td>1.0</td>\n",
       "      <td>0</td>\n",
       "      <td>4</td>\n",
       "    </tr>\n",
       "    <tr>\n",
       "      <th>4</th>\n",
       "      <td>300000.0</td>\n",
       "      <td>24</td>\n",
       "      <td>-2.0</td>\n",
       "      <td>-2.0</td>\n",
       "      <td>-2.0</td>\n",
       "      <td>-2.0</td>\n",
       "      <td>-1.0</td>\n",
       "      <td>-1.0</td>\n",
       "      <td>-158.0</td>\n",
       "      <td>-158.0</td>\n",
       "      <td>...</td>\n",
       "      <td>0.0</td>\n",
       "      <td>0.0</td>\n",
       "      <td>300.0</td>\n",
       "      <td>100</td>\n",
       "      <td>100.0</td>\n",
       "      <td>MALE</td>\n",
       "      <td>2</td>\n",
       "      <td>2.0</td>\n",
       "      <td>0</td>\n",
       "      <td>5</td>\n",
       "    </tr>\n",
       "    <tr>\n",
       "      <th>...</th>\n",
       "      <td>...</td>\n",
       "      <td>...</td>\n",
       "      <td>...</td>\n",
       "      <td>...</td>\n",
       "      <td>...</td>\n",
       "      <td>...</td>\n",
       "      <td>...</td>\n",
       "      <td>...</td>\n",
       "      <td>...</td>\n",
       "      <td>...</td>\n",
       "      <td>...</td>\n",
       "      <td>...</td>\n",
       "      <td>...</td>\n",
       "      <td>...</td>\n",
       "      <td>...</td>\n",
       "      <td>...</td>\n",
       "      <td>...</td>\n",
       "      <td>...</td>\n",
       "      <td>...</td>\n",
       "      <td>...</td>\n",
       "      <td>...</td>\n",
       "    </tr>\n",
       "    <tr>\n",
       "      <th>19995</th>\n",
       "      <td>310000.0</td>\n",
       "      <td>45</td>\n",
       "      <td>0.0</td>\n",
       "      <td>0.0</td>\n",
       "      <td>0.0</td>\n",
       "      <td>NaN</td>\n",
       "      <td>0.0</td>\n",
       "      <td>0.0</td>\n",
       "      <td>91532.0</td>\n",
       "      <td>93351.0</td>\n",
       "      <td>...</td>\n",
       "      <td>4370.0</td>\n",
       "      <td>4000.0</td>\n",
       "      <td>5000.0</td>\n",
       "      <td>3899</td>\n",
       "      <td>3761.0</td>\n",
       "      <td>FEMALE</td>\n",
       "      <td>1</td>\n",
       "      <td>1.0</td>\n",
       "      <td>0</td>\n",
       "      <td>19996</td>\n",
       "    </tr>\n",
       "    <tr>\n",
       "      <th>19996</th>\n",
       "      <td>180000.0</td>\n",
       "      <td>31</td>\n",
       "      <td>0.0</td>\n",
       "      <td>NaN</td>\n",
       "      <td>0.0</td>\n",
       "      <td>0.0</td>\n",
       "      <td>0.0</td>\n",
       "      <td>0.0</td>\n",
       "      <td>26000.0</td>\n",
       "      <td>26310.0</td>\n",
       "      <td>...</td>\n",
       "      <td>1500.0</td>\n",
       "      <td>1056.0</td>\n",
       "      <td>950.0</td>\n",
       "      <td>1000</td>\n",
       "      <td>NaN</td>\n",
       "      <td>FEMALE</td>\n",
       "      <td>2</td>\n",
       "      <td>1.0</td>\n",
       "      <td>0</td>\n",
       "      <td>19997</td>\n",
       "    </tr>\n",
       "    <tr>\n",
       "      <th>19997</th>\n",
       "      <td>210000.0</td>\n",
       "      <td>22</td>\n",
       "      <td>0.0</td>\n",
       "      <td>0.0</td>\n",
       "      <td>0.0</td>\n",
       "      <td>0.0</td>\n",
       "      <td>0.0</td>\n",
       "      <td>0.0</td>\n",
       "      <td>142848.0</td>\n",
       "      <td>94018.0</td>\n",
       "      <td>...</td>\n",
       "      <td>4415.0</td>\n",
       "      <td>6000.0</td>\n",
       "      <td>3635.0</td>\n",
       "      <td>4000</td>\n",
       "      <td>5000.0</td>\n",
       "      <td>FEMALE</td>\n",
       "      <td>2</td>\n",
       "      <td>1.0</td>\n",
       "      <td>0</td>\n",
       "      <td>19998</td>\n",
       "    </tr>\n",
       "    <tr>\n",
       "      <th>19998</th>\n",
       "      <td>200000.0</td>\n",
       "      <td>41</td>\n",
       "      <td>NaN</td>\n",
       "      <td>0.0</td>\n",
       "      <td>0.0</td>\n",
       "      <td>0.0</td>\n",
       "      <td>0.0</td>\n",
       "      <td>0.0</td>\n",
       "      <td>113570.0</td>\n",
       "      <td>113974.0</td>\n",
       "      <td>...</td>\n",
       "      <td>5571.0</td>\n",
       "      <td>5221.0</td>\n",
       "      <td>4001.0</td>\n",
       "      <td>4001</td>\n",
       "      <td>4001.0</td>\n",
       "      <td>FEMALE</td>\n",
       "      <td>3</td>\n",
       "      <td>1.0</td>\n",
       "      <td>0</td>\n",
       "      <td>19999</td>\n",
       "    </tr>\n",
       "    <tr>\n",
       "      <th>19999</th>\n",
       "      <td>30000.0</td>\n",
       "      <td>35</td>\n",
       "      <td>2.0</td>\n",
       "      <td>2.0</td>\n",
       "      <td>2.0</td>\n",
       "      <td>2.0</td>\n",
       "      <td>0.0</td>\n",
       "      <td>0.0</td>\n",
       "      <td>8229.0</td>\n",
       "      <td>11076.0</td>\n",
       "      <td>...</td>\n",
       "      <td>1188.0</td>\n",
       "      <td>0.0</td>\n",
       "      <td>564.0</td>\n",
       "      <td>426</td>\n",
       "      <td>429.0</td>\n",
       "      <td>FEMALE</td>\n",
       "      <td>2</td>\n",
       "      <td>1.0</td>\n",
       "      <td>0</td>\n",
       "      <td>20000</td>\n",
       "    </tr>\n",
       "  </tbody>\n",
       "</table>\n",
       "<p>20000 rows × 25 columns</p>\n",
       "</div>"
      ],
      "text/plain": [
       "       LIMIT_BAL  AGE  PAY_0  PAY_2  PAY_3  PAY_4  PAY_5  PAY_6  BILL_AMT1  \\\n",
       "0       290000.0   50   -1.0   -1.0   -1.0   -1.0   -1.0   -1.0        NaN   \n",
       "1        20000.0   49    0.0    0.0    0.0    0.0    NaN    0.0    19773.0   \n",
       "2       230000.0   28    0.0    0.0    0.0    0.0    0.0    0.0    20356.0   \n",
       "3       210000.0   31   -1.0   -1.0   -1.0   -1.0   -1.0   -1.0     8600.0   \n",
       "4       300000.0   24   -2.0   -2.0   -2.0   -2.0   -1.0   -1.0     -158.0   \n",
       "...          ...  ...    ...    ...    ...    ...    ...    ...        ...   \n",
       "19995   310000.0   45    0.0    0.0    0.0    NaN    0.0    0.0    91532.0   \n",
       "19996   180000.0   31    0.0    NaN    0.0    0.0    0.0    0.0    26000.0   \n",
       "19997   210000.0   22    0.0    0.0    0.0    0.0    0.0    0.0   142848.0   \n",
       "19998   200000.0   41    NaN    0.0    0.0    0.0    0.0    0.0   113570.0   \n",
       "19999    30000.0   35    2.0    2.0    2.0    2.0    0.0    0.0     8229.0   \n",
       "\n",
       "       BILL_AMT2  ...  PAY_AMT2  PAY_AMT3  PAY_AMT4  PAY_AMT5  PAY_AMT6  \\\n",
       "0          199.0  ...    1440.0    1017.0    3798.0      4898    5034.0   \n",
       "1        18459.0  ...    1270.0     633.0     655.0       759     547.0   \n",
       "2        21504.0  ...    1700.0    2007.0    1000.0      1000    1000.0   \n",
       "3            0.0  ...    4231.0    4221.0    4221.0      4483    4300.0   \n",
       "4         -158.0  ...       0.0       0.0     300.0       100     100.0   \n",
       "...          ...  ...       ...       ...       ...       ...       ...   \n",
       "19995    93351.0  ...    4370.0    4000.0    5000.0      3899    3761.0   \n",
       "19996    26310.0  ...    1500.0    1056.0     950.0      1000       NaN   \n",
       "19997    94018.0  ...    4415.0    6000.0    3635.0      4000    5000.0   \n",
       "19998   113974.0  ...    5571.0    5221.0    4001.0      4001    4001.0   \n",
       "19999    11076.0  ...    1188.0       0.0     564.0       426     429.0   \n",
       "\n",
       "       GENDER  QUALIFICATION  MARRIED  defaulter     Id  \n",
       "0      FEMALE              2      1.0          0      1  \n",
       "1      FEMALE              2      3.0          1      2  \n",
       "2      FEMALE              1      2.0          0      3  \n",
       "3      FEMALE              1      1.0          0      4  \n",
       "4        MALE              2      2.0          0      5  \n",
       "...       ...            ...      ...        ...    ...  \n",
       "19995  FEMALE              1      1.0          0  19996  \n",
       "19996  FEMALE              2      1.0          0  19997  \n",
       "19997  FEMALE              2      1.0          0  19998  \n",
       "19998  FEMALE              3      1.0          0  19999  \n",
       "19999  FEMALE              2      1.0          0  20000  \n",
       "\n",
       "[20000 rows x 25 columns]"
      ]
     },
     "execution_count": 10,
     "metadata": {},
     "output_type": "execute_result"
    }
   ],
   "source": [
    "df_train"
   ]
  },
  {
   "cell_type": "code",
   "execution_count": 11,
   "id": "cbfc2c1b",
   "metadata": {},
   "outputs": [
    {
     "data": {
      "text/plain": [
       "LIMIT_BAL    1300\n",
       "PAY_0         656\n",
       "PAY_2        1859\n",
       "PAY_3        1249\n",
       "PAY_4         684\n",
       "PAY_5         677\n",
       "PAY_6        1345\n",
       "BILL_AMT1    1870\n",
       "BILL_AMT2    1319\n",
       "BILL_AMT3     677\n",
       "BILL_AMT5     682\n",
       "PAY_AMT1     1310\n",
       "PAY_AMT2     1237\n",
       "PAY_AMT3     1309\n",
       "PAY_AMT4      682\n",
       "PAY_AMT6      688\n",
       "MARRIED      1326\n",
       "dtype: int64"
      ]
     },
     "execution_count": 11,
     "metadata": {},
     "output_type": "execute_result"
    }
   ],
   "source": [
    "df_train.isna().sum()[df_train.isna().sum()>0]"
   ]
  },
  {
   "cell_type": "code",
   "execution_count": 12,
   "id": "625e581b",
   "metadata": {},
   "outputs": [
    {
     "data": {
      "text/plain": [
       "LIMIT_BAL    320\n",
       "PAY_0        164\n",
       "PAY_2        465\n",
       "PAY_3        328\n",
       "PAY_4        169\n",
       "PAY_5        171\n",
       "PAY_6        299\n",
       "BILL_AMT1    465\n",
       "BILL_AMT2    318\n",
       "BILL_AMT3    174\n",
       "BILL_AMT5    161\n",
       "PAY_AMT1     349\n",
       "PAY_AMT2     302\n",
       "PAY_AMT3     368\n",
       "PAY_AMT4     161\n",
       "PAY_AMT6     192\n",
       "MARRIED      321\n",
       "dtype: int64"
      ]
     },
     "execution_count": 12,
     "metadata": {},
     "output_type": "execute_result"
    }
   ],
   "source": [
    "df_test.isna().sum()[df_test.isna().sum()>0]"
   ]
  },
  {
   "cell_type": "code",
   "execution_count": 13,
   "id": "58c10f2d",
   "metadata": {},
   "outputs": [],
   "source": [
    "columns_cat = list(df_train.select_dtypes(include='object').columns)\n",
    "columns_num = list(df_train.select_dtypes(exclude='object').columns)\n",
    "columns_num.remove('Id')\n",
    "columns_num.remove('defaulter')"
   ]
  },
  {
   "cell_type": "markdown",
   "id": "974b9d44",
   "metadata": {},
   "source": [
    "\n",
    "# SimpleImputer"
   ]
  },
  {
   "cell_type": "code",
   "execution_count": 14,
   "id": "dc6d0d28",
   "metadata": {},
   "outputs": [],
   "source": [
    "from sklearn.impute import SimpleImputer"
   ]
  },
  {
   "cell_type": "code",
   "execution_count": 15,
   "id": "59073a98",
   "metadata": {},
   "outputs": [],
   "source": [
    "imputer_num = SimpleImputer(strategy='median')\n",
    "imputer_cat = SimpleImputer(strategy='most_frequent')\n",
    "\n",
    "imputer_num.fit(df_train[columns_num])\n",
    "imputer_cat.fit(df_train[columns_cat])\n",
    "\n",
    "df_train[columns_num] = imputer_num.transform(df_train[columns_num])\n",
    "df_train[columns_cat] = imputer_cat.transform(df_train[columns_cat])\n",
    "\n",
    "df_test[columns_num] = imputer_num.transform(df_test[columns_num])\n",
    "df_test[columns_cat] = imputer_cat.transform(df_test[columns_cat])"
   ]
  },
  {
   "cell_type": "code",
   "execution_count": 16,
   "id": "a04a8b39",
   "metadata": {},
   "outputs": [
    {
     "data": {
      "text/plain": [
       "(Series([], dtype: int64), Series([], dtype: int64))"
      ]
     },
     "execution_count": 16,
     "metadata": {},
     "output_type": "execute_result"
    }
   ],
   "source": [
    "df_train.isna().sum()[df_train.isna().sum()>0], df_test.isna().sum()[df_test.isna().sum()>0]"
   ]
  },
  {
   "cell_type": "markdown",
   "id": "538dc4ea",
   "metadata": {},
   "source": [
    "# Scalling - MinMaxScaler"
   ]
  },
  {
   "cell_type": "code",
   "execution_count": 17,
   "id": "fd5f61fb",
   "metadata": {},
   "outputs": [],
   "source": [
    "from sklearn.preprocessing import MinMaxScaler"
   ]
  },
  {
   "cell_type": "code",
   "execution_count": 18,
   "id": "d2e9d454",
   "metadata": {},
   "outputs": [],
   "source": [
    "scaler = MinMaxScaler()\n",
    "scaler.fit(df_train[columns_num])\n",
    "df_train[columns_num] = scaler.transform(df_train[columns_num])\n",
    "df_test[columns_num] = scaler.transform(df_test[columns_num])"
   ]
  },
  {
   "cell_type": "markdown",
   "id": "e1fd3d39",
   "metadata": {},
   "source": [
    "# OneHotEnoding"
   ]
  },
  {
   "cell_type": "code",
   "execution_count": 19,
   "id": "712a61a8",
   "metadata": {},
   "outputs": [],
   "source": [
    "from sklearn.preprocessing import OneHotEncoder"
   ]
  },
  {
   "cell_type": "code",
   "execution_count": 20,
   "id": "7884e5e5",
   "metadata": {},
   "outputs": [
    {
     "name": "stderr",
     "output_type": "stream",
     "text": [
      "C:\\Users\\ajay sutar\\Anaconda3\\lib\\site-packages\\sklearn\\utils\\deprecation.py:87: FutureWarning: Function get_feature_names is deprecated; get_feature_names is deprecated in 1.0 and will be removed in 1.2. Please use get_feature_names_out instead.\n",
      "  warnings.warn(msg, category=FutureWarning)\n",
      "C:\\Users\\ajay sutar\\Anaconda3\\lib\\site-packages\\sklearn\\utils\\deprecation.py:87: FutureWarning: Function get_feature_names is deprecated; get_feature_names is deprecated in 1.0 and will be removed in 1.2. Please use get_feature_names_out instead.\n",
      "  warnings.warn(msg, category=FutureWarning)\n"
     ]
    }
   ],
   "source": [
    "ohe = OneHotEncoder(handle_unknown='ignore')\n",
    "ohe.fit(df_train[columns_cat])\n",
    "df_train[ohe.get_feature_names()] = ohe.transform(df_train[columns_cat]).toarray()\n",
    "df_test[ohe.get_feature_names()] = ohe.transform(df_test[columns_cat]).toarray()"
   ]
  },
  {
   "cell_type": "code",
   "execution_count": 21,
   "id": "2bcbfc70",
   "metadata": {},
   "outputs": [
    {
     "data": {
      "text/plain": [
       "array([[1., 0.],\n",
       "       [1., 0.],\n",
       "       [1., 0.],\n",
       "       ...,\n",
       "       [1., 0.],\n",
       "       [1., 0.],\n",
       "       [1., 0.]])"
      ]
     },
     "execution_count": 21,
     "metadata": {},
     "output_type": "execute_result"
    }
   ],
   "source": [
    "ohe.transform(df_train[columns_cat]).toarray()"
   ]
  },
  {
   "cell_type": "code",
   "execution_count": 22,
   "id": "e4155889",
   "metadata": {},
   "outputs": [
    {
     "data": {
      "text/plain": [
       "((20000, 27), (5000, 26))"
      ]
     },
     "execution_count": 22,
     "metadata": {},
     "output_type": "execute_result"
    }
   ],
   "source": [
    "df_train.shape, df_test.shape"
   ]
  },
  {
   "cell_type": "markdown",
   "id": "7bd16318",
   "metadata": {},
   "source": [
    "# Feature Selection"
   ]
  },
  {
   "cell_type": "code",
   "execution_count": 23,
   "id": "59b01e55",
   "metadata": {},
   "outputs": [
    {
     "name": "stderr",
     "output_type": "stream",
     "text": [
      "C:\\Users\\ajay sutar\\Anaconda3\\lib\\site-packages\\sklearn\\utils\\deprecation.py:87: FutureWarning: Function get_feature_names is deprecated; get_feature_names is deprecated in 1.0 and will be removed in 1.2. Please use get_feature_names_out instead.\n",
      "  warnings.warn(msg, category=FutureWarning)\n"
     ]
    }
   ],
   "source": [
    "col_list = columns_num + list(ohe.get_feature_names()) + ['defaulter']"
   ]
  },
  {
   "cell_type": "code",
   "execution_count": 24,
   "id": "42691d45",
   "metadata": {},
   "outputs": [],
   "source": [
    "corr_values = df_train[col_list].corr()['defaulter']"
   ]
  },
  {
   "cell_type": "code",
   "execution_count": 25,
   "id": "ce2eafb2",
   "metadata": {},
   "outputs": [],
   "source": [
    "selected_cols = list((corr_values[(corr_values>0.1) | (corr_values<-0.1)]).index)\n",
    "selected_cols.remove('defaulter')"
   ]
  },
  {
   "cell_type": "code",
   "execution_count": 26,
   "id": "0788d16c",
   "metadata": {},
   "outputs": [
    {
     "name": "stderr",
     "output_type": "stream",
     "text": [
      "C:\\Users\\ajay sutar\\Anaconda3\\lib\\site-packages\\sklearn\\utils\\deprecation.py:87: FutureWarning: Function get_feature_names is deprecated; get_feature_names is deprecated in 1.0 and will be removed in 1.2. Please use get_feature_names_out instead.\n",
      "  warnings.warn(msg, category=FutureWarning)\n"
     ]
    },
    {
     "data": {
      "text/plain": [
       "array(['x0_FEMALE', 'x0_MALE'], dtype=object)"
      ]
     },
     "execution_count": 26,
     "metadata": {},
     "output_type": "execute_result"
    }
   ],
   "source": [
    "ohe.get_feature_names()"
   ]
  },
  {
   "cell_type": "code",
   "execution_count": 27,
   "id": "3a99debe",
   "metadata": {},
   "outputs": [],
   "source": [
    "X = df_train[selected_cols]\n",
    "y = df_train['defaulter']"
   ]
  },
  {
   "cell_type": "markdown",
   "id": "5fc06be5",
   "metadata": {},
   "source": [
    "# Model Building"
   ]
  },
  {
   "cell_type": "code",
   "execution_count": 28,
   "id": "a94b0369",
   "metadata": {},
   "outputs": [],
   "source": [
    "from sklearn.ensemble import RandomForestClassifier"
   ]
  },
  {
   "cell_type": "code",
   "execution_count": 29,
   "id": "87a8833d",
   "metadata": {},
   "outputs": [
    {
     "data": {
      "text/plain": [
       "RandomForestClassifier(max_depth=11, min_samples_leaf=15, n_estimators=48,\n",
       "                       random_state=95)"
      ]
     },
     "execution_count": 29,
     "metadata": {},
     "output_type": "execute_result"
    }
   ],
   "source": [
    "#model = RandomForestClassifier(n_estimators=10,random_state=95)\n",
    "model=RandomForestClassifier(max_depth=11, min_samples_leaf=15, n_estimators=48,\n",
    "                       random_state=95)\n",
    "model.fit(X,y)\n"
   ]
  },
  {
   "cell_type": "code",
   "execution_count": 30,
   "id": "ed4e2def",
   "metadata": {},
   "outputs": [
    {
     "data": {
      "text/plain": [
       "0.8212"
      ]
     },
     "execution_count": 30,
     "metadata": {},
     "output_type": "execute_result"
    }
   ],
   "source": [
    "model.score(X,y)"
   ]
  },
  {
   "cell_type": "code",
   "execution_count": 31,
   "id": "0014b484",
   "metadata": {},
   "outputs": [],
   "source": [
    "yp = model.predict(df_test[selected_cols])\n",
    "\n",
    "df_test['defaulter'] = yp\n",
    "df_test[['Id','defaulter']].to_csv('subRF6.csv',index=False)\n"
   ]
  },
  {
   "cell_type": "code",
   "execution_count": 32,
   "id": "7586fa17",
   "metadata": {},
   "outputs": [],
   "source": [
    "from sklearn.model_selection import GridSearchCV, RandomizedSearchCV\n",
    "from sklearn.metrics import accuracy_score"
   ]
  },
  {
   "cell_type": "code",
   "execution_count": 33,
   "id": "55e42f35",
   "metadata": {},
   "outputs": [
    {
     "name": "stdout",
     "output_type": "stream",
     "text": [
      "Fitting 5 folds for each of 60 candidates, totalling 300 fits\n",
      "[CV 1/5] END max_depth=2, min_samples_leaf=2, n_estimators=10;, score=0.803 total time=   0.0s\n",
      "[CV 2/5] END max_depth=2, min_samples_leaf=2, n_estimators=10;, score=0.808 total time=   0.0s\n",
      "[CV 3/5] END max_depth=2, min_samples_leaf=2, n_estimators=10;, score=0.803 total time=   0.0s\n",
      "[CV 4/5] END max_depth=2, min_samples_leaf=2, n_estimators=10;, score=0.801 total time=   0.0s\n",
      "[CV 5/5] END max_depth=2, min_samples_leaf=2, n_estimators=10;, score=0.808 total time=   0.0s\n",
      "[CV 1/5] END max_depth=2, min_samples_leaf=2, n_estimators=20;, score=0.802 total time=   0.0s\n",
      "[CV 2/5] END max_depth=2, min_samples_leaf=2, n_estimators=20;, score=0.807 total time=   0.0s\n",
      "[CV 3/5] END max_depth=2, min_samples_leaf=2, n_estimators=20;, score=0.803 total time=   0.0s\n",
      "[CV 4/5] END max_depth=2, min_samples_leaf=2, n_estimators=20;, score=0.799 total time=   0.0s\n",
      "[CV 5/5] END max_depth=2, min_samples_leaf=2, n_estimators=20;, score=0.808 total time=   0.0s\n",
      "[CV 1/5] END max_depth=2, min_samples_leaf=2, n_estimators=30;, score=0.803 total time=   0.0s\n",
      "[CV 2/5] END max_depth=2, min_samples_leaf=2, n_estimators=30;, score=0.806 total time=   0.1s\n",
      "[CV 3/5] END max_depth=2, min_samples_leaf=2, n_estimators=30;, score=0.803 total time=   0.0s\n",
      "[CV 4/5] END max_depth=2, min_samples_leaf=2, n_estimators=30;, score=0.801 total time=   0.0s\n",
      "[CV 5/5] END max_depth=2, min_samples_leaf=2, n_estimators=30;, score=0.806 total time=   0.0s\n",
      "[CV 1/5] END max_depth=2, min_samples_leaf=2, n_estimators=40;, score=0.807 total time=   0.1s\n",
      "[CV 2/5] END max_depth=2, min_samples_leaf=2, n_estimators=40;, score=0.806 total time=   0.1s\n",
      "[CV 3/5] END max_depth=2, min_samples_leaf=2, n_estimators=40;, score=0.807 total time=   0.1s\n",
      "[CV 4/5] END max_depth=2, min_samples_leaf=2, n_estimators=40;, score=0.804 total time=   0.1s\n",
      "[CV 5/5] END max_depth=2, min_samples_leaf=2, n_estimators=40;, score=0.808 total time=   0.1s\n",
      "[CV 1/5] END max_depth=2, min_samples_leaf=2, n_estimators=50;, score=0.806 total time=   0.1s\n",
      "[CV 2/5] END max_depth=2, min_samples_leaf=2, n_estimators=50;, score=0.808 total time=   0.1s\n",
      "[CV 3/5] END max_depth=2, min_samples_leaf=2, n_estimators=50;, score=0.806 total time=   0.1s\n",
      "[CV 4/5] END max_depth=2, min_samples_leaf=2, n_estimators=50;, score=0.803 total time=   0.1s\n",
      "[CV 5/5] END max_depth=2, min_samples_leaf=2, n_estimators=50;, score=0.808 total time=   0.1s\n",
      "[CV 1/5] END max_depth=2, min_samples_leaf=3, n_estimators=10;, score=0.803 total time=   0.0s\n",
      "[CV 2/5] END max_depth=2, min_samples_leaf=3, n_estimators=10;, score=0.808 total time=   0.0s\n",
      "[CV 3/5] END max_depth=2, min_samples_leaf=3, n_estimators=10;, score=0.803 total time=   0.0s\n",
      "[CV 4/5] END max_depth=2, min_samples_leaf=3, n_estimators=10;, score=0.801 total time=   0.0s\n",
      "[CV 5/5] END max_depth=2, min_samples_leaf=3, n_estimators=10;, score=0.808 total time=   0.0s\n",
      "[CV 1/5] END max_depth=2, min_samples_leaf=3, n_estimators=20;, score=0.802 total time=   0.0s\n",
      "[CV 2/5] END max_depth=2, min_samples_leaf=3, n_estimators=20;, score=0.807 total time=   0.0s\n",
      "[CV 3/5] END max_depth=2, min_samples_leaf=3, n_estimators=20;, score=0.803 total time=   0.0s\n",
      "[CV 4/5] END max_depth=2, min_samples_leaf=3, n_estimators=20;, score=0.799 total time=   0.0s\n",
      "[CV 5/5] END max_depth=2, min_samples_leaf=3, n_estimators=20;, score=0.808 total time=   0.0s\n",
      "[CV 1/5] END max_depth=2, min_samples_leaf=3, n_estimators=30;, score=0.803 total time=   0.0s\n",
      "[CV 2/5] END max_depth=2, min_samples_leaf=3, n_estimators=30;, score=0.806 total time=   0.1s\n",
      "[CV 3/5] END max_depth=2, min_samples_leaf=3, n_estimators=30;, score=0.803 total time=   0.0s\n",
      "[CV 4/5] END max_depth=2, min_samples_leaf=3, n_estimators=30;, score=0.801 total time=   0.1s\n",
      "[CV 5/5] END max_depth=2, min_samples_leaf=3, n_estimators=30;, score=0.806 total time=   0.0s\n",
      "[CV 1/5] END max_depth=2, min_samples_leaf=3, n_estimators=40;, score=0.807 total time=   0.1s\n",
      "[CV 2/5] END max_depth=2, min_samples_leaf=3, n_estimators=40;, score=0.806 total time=   0.0s\n",
      "[CV 3/5] END max_depth=2, min_samples_leaf=3, n_estimators=40;, score=0.807 total time=   0.0s\n",
      "[CV 4/5] END max_depth=2, min_samples_leaf=3, n_estimators=40;, score=0.804 total time=   0.0s\n",
      "[CV 5/5] END max_depth=2, min_samples_leaf=3, n_estimators=40;, score=0.808 total time=   0.0s\n",
      "[CV 1/5] END max_depth=2, min_samples_leaf=3, n_estimators=50;, score=0.806 total time=   0.0s\n",
      "[CV 2/5] END max_depth=2, min_samples_leaf=3, n_estimators=50;, score=0.808 total time=   0.1s\n",
      "[CV 3/5] END max_depth=2, min_samples_leaf=3, n_estimators=50;, score=0.806 total time=   0.1s\n",
      "[CV 4/5] END max_depth=2, min_samples_leaf=3, n_estimators=50;, score=0.803 total time=   0.1s\n",
      "[CV 5/5] END max_depth=2, min_samples_leaf=3, n_estimators=50;, score=0.808 total time=   0.0s\n",
      "[CV 1/5] END max_depth=2, min_samples_leaf=4, n_estimators=10;, score=0.803 total time=   0.0s\n",
      "[CV 2/5] END max_depth=2, min_samples_leaf=4, n_estimators=10;, score=0.808 total time=   0.0s\n",
      "[CV 3/5] END max_depth=2, min_samples_leaf=4, n_estimators=10;, score=0.803 total time=   0.0s\n",
      "[CV 4/5] END max_depth=2, min_samples_leaf=4, n_estimators=10;, score=0.801 total time=   0.0s\n",
      "[CV 5/5] END max_depth=2, min_samples_leaf=4, n_estimators=10;, score=0.808 total time=   0.0s\n",
      "[CV 1/5] END max_depth=2, min_samples_leaf=4, n_estimators=20;, score=0.802 total time=   0.0s\n",
      "[CV 2/5] END max_depth=2, min_samples_leaf=4, n_estimators=20;, score=0.807 total time=   0.0s\n",
      "[CV 3/5] END max_depth=2, min_samples_leaf=4, n_estimators=20;, score=0.803 total time=   0.0s\n",
      "[CV 4/5] END max_depth=2, min_samples_leaf=4, n_estimators=20;, score=0.799 total time=   0.0s\n",
      "[CV 5/5] END max_depth=2, min_samples_leaf=4, n_estimators=20;, score=0.808 total time=   0.0s\n",
      "[CV 1/5] END max_depth=2, min_samples_leaf=4, n_estimators=30;, score=0.803 total time=   0.0s\n",
      "[CV 2/5] END max_depth=2, min_samples_leaf=4, n_estimators=30;, score=0.806 total time=   0.0s\n",
      "[CV 3/5] END max_depth=2, min_samples_leaf=4, n_estimators=30;, score=0.803 total time=   0.0s\n",
      "[CV 4/5] END max_depth=2, min_samples_leaf=4, n_estimators=30;, score=0.801 total time=   0.0s\n",
      "[CV 5/5] END max_depth=2, min_samples_leaf=4, n_estimators=30;, score=0.806 total time=   0.0s\n",
      "[CV 1/5] END max_depth=2, min_samples_leaf=4, n_estimators=40;, score=0.807 total time=   0.0s\n",
      "[CV 2/5] END max_depth=2, min_samples_leaf=4, n_estimators=40;, score=0.806 total time=   0.0s\n",
      "[CV 3/5] END max_depth=2, min_samples_leaf=4, n_estimators=40;, score=0.807 total time=   0.0s\n",
      "[CV 4/5] END max_depth=2, min_samples_leaf=4, n_estimators=40;, score=0.804 total time=   0.0s\n",
      "[CV 5/5] END max_depth=2, min_samples_leaf=4, n_estimators=40;, score=0.808 total time=   0.0s\n",
      "[CV 1/5] END max_depth=2, min_samples_leaf=4, n_estimators=50;, score=0.806 total time=   0.1s\n",
      "[CV 2/5] END max_depth=2, min_samples_leaf=4, n_estimators=50;, score=0.808 total time=   0.1s\n",
      "[CV 3/5] END max_depth=2, min_samples_leaf=4, n_estimators=50;, score=0.806 total time=   0.1s\n",
      "[CV 4/5] END max_depth=2, min_samples_leaf=4, n_estimators=50;, score=0.803 total time=   0.1s\n",
      "[CV 5/5] END max_depth=2, min_samples_leaf=4, n_estimators=50;, score=0.808 total time=   0.1s\n",
      "[CV 1/5] END max_depth=2, min_samples_leaf=5, n_estimators=10;, score=0.803 total time=   0.0s\n",
      "[CV 2/5] END max_depth=2, min_samples_leaf=5, n_estimators=10;, score=0.808 total time=   0.0s\n",
      "[CV 3/5] END max_depth=2, min_samples_leaf=5, n_estimators=10;, score=0.803 total time=   0.0s\n",
      "[CV 4/5] END max_depth=2, min_samples_leaf=5, n_estimators=10;, score=0.801 total time=   0.0s\n",
      "[CV 5/5] END max_depth=2, min_samples_leaf=5, n_estimators=10;, score=0.808 total time=   0.0s\n",
      "[CV 1/5] END max_depth=2, min_samples_leaf=5, n_estimators=20;, score=0.802 total time=   0.0s\n",
      "[CV 2/5] END max_depth=2, min_samples_leaf=5, n_estimators=20;, score=0.807 total time=   0.0s\n",
      "[CV 3/5] END max_depth=2, min_samples_leaf=5, n_estimators=20;, score=0.803 total time=   0.0s\n",
      "[CV 4/5] END max_depth=2, min_samples_leaf=5, n_estimators=20;, score=0.799 total time=   0.0s\n",
      "[CV 5/5] END max_depth=2, min_samples_leaf=5, n_estimators=20;, score=0.808 total time=   0.0s\n",
      "[CV 1/5] END max_depth=2, min_samples_leaf=5, n_estimators=30;, score=0.803 total time=   0.0s\n",
      "[CV 2/5] END max_depth=2, min_samples_leaf=5, n_estimators=30;, score=0.806 total time=   0.0s\n",
      "[CV 3/5] END max_depth=2, min_samples_leaf=5, n_estimators=30;, score=0.803 total time=   0.0s\n"
     ]
    },
    {
     "name": "stdout",
     "output_type": "stream",
     "text": [
      "[CV 4/5] END max_depth=2, min_samples_leaf=5, n_estimators=30;, score=0.801 total time=   0.0s\n",
      "[CV 5/5] END max_depth=2, min_samples_leaf=5, n_estimators=30;, score=0.806 total time=   0.0s\n",
      "[CV 1/5] END max_depth=2, min_samples_leaf=5, n_estimators=40;, score=0.807 total time=   0.0s\n",
      "[CV 2/5] END max_depth=2, min_samples_leaf=5, n_estimators=40;, score=0.806 total time=   0.0s\n",
      "[CV 3/5] END max_depth=2, min_samples_leaf=5, n_estimators=40;, score=0.807 total time=   0.0s\n",
      "[CV 4/5] END max_depth=2, min_samples_leaf=5, n_estimators=40;, score=0.804 total time=   0.0s\n",
      "[CV 5/5] END max_depth=2, min_samples_leaf=5, n_estimators=40;, score=0.808 total time=   0.0s\n",
      "[CV 1/5] END max_depth=2, min_samples_leaf=5, n_estimators=50;, score=0.806 total time=   0.1s\n",
      "[CV 2/5] END max_depth=2, min_samples_leaf=5, n_estimators=50;, score=0.808 total time=   0.1s\n",
      "[CV 3/5] END max_depth=2, min_samples_leaf=5, n_estimators=50;, score=0.806 total time=   0.1s\n",
      "[CV 4/5] END max_depth=2, min_samples_leaf=5, n_estimators=50;, score=0.803 total time=   0.1s\n",
      "[CV 5/5] END max_depth=2, min_samples_leaf=5, n_estimators=50;, score=0.808 total time=   0.0s\n",
      "[CV 1/5] END max_depth=3, min_samples_leaf=2, n_estimators=10;, score=0.813 total time=   0.0s\n",
      "[CV 2/5] END max_depth=3, min_samples_leaf=2, n_estimators=10;, score=0.812 total time=   0.0s\n",
      "[CV 3/5] END max_depth=3, min_samples_leaf=2, n_estimators=10;, score=0.809 total time=   0.0s\n",
      "[CV 4/5] END max_depth=3, min_samples_leaf=2, n_estimators=10;, score=0.805 total time=   0.0s\n",
      "[CV 5/5] END max_depth=3, min_samples_leaf=2, n_estimators=10;, score=0.811 total time=   0.0s\n",
      "[CV 1/5] END max_depth=3, min_samples_leaf=2, n_estimators=20;, score=0.811 total time=   0.0s\n",
      "[CV 2/5] END max_depth=3, min_samples_leaf=2, n_estimators=20;, score=0.811 total time=   0.0s\n",
      "[CV 3/5] END max_depth=3, min_samples_leaf=2, n_estimators=20;, score=0.810 total time=   0.0s\n",
      "[CV 4/5] END max_depth=3, min_samples_leaf=2, n_estimators=20;, score=0.805 total time=   0.0s\n",
      "[CV 5/5] END max_depth=3, min_samples_leaf=2, n_estimators=20;, score=0.810 total time=   0.0s\n",
      "[CV 1/5] END max_depth=3, min_samples_leaf=2, n_estimators=30;, score=0.816 total time=   0.0s\n",
      "[CV 2/5] END max_depth=3, min_samples_leaf=2, n_estimators=30;, score=0.812 total time=   0.0s\n",
      "[CV 3/5] END max_depth=3, min_samples_leaf=2, n_estimators=30;, score=0.811 total time=   0.0s\n",
      "[CV 4/5] END max_depth=3, min_samples_leaf=2, n_estimators=30;, score=0.809 total time=   0.0s\n",
      "[CV 5/5] END max_depth=3, min_samples_leaf=2, n_estimators=30;, score=0.813 total time=   0.0s\n",
      "[CV 1/5] END max_depth=3, min_samples_leaf=2, n_estimators=40;, score=0.818 total time=   0.1s\n",
      "[CV 2/5] END max_depth=3, min_samples_leaf=2, n_estimators=40;, score=0.820 total time=   0.1s\n",
      "[CV 3/5] END max_depth=3, min_samples_leaf=2, n_estimators=40;, score=0.819 total time=   0.1s\n",
      "[CV 4/5] END max_depth=3, min_samples_leaf=2, n_estimators=40;, score=0.811 total time=   0.1s\n",
      "[CV 5/5] END max_depth=3, min_samples_leaf=2, n_estimators=40;, score=0.817 total time=   0.1s\n",
      "[CV 1/5] END max_depth=3, min_samples_leaf=2, n_estimators=50;, score=0.813 total time=   0.1s\n",
      "[CV 2/5] END max_depth=3, min_samples_leaf=2, n_estimators=50;, score=0.812 total time=   0.1s\n",
      "[CV 3/5] END max_depth=3, min_samples_leaf=2, n_estimators=50;, score=0.810 total time=   0.1s\n",
      "[CV 4/5] END max_depth=3, min_samples_leaf=2, n_estimators=50;, score=0.808 total time=   0.1s\n",
      "[CV 5/5] END max_depth=3, min_samples_leaf=2, n_estimators=50;, score=0.813 total time=   0.1s\n",
      "[CV 1/5] END max_depth=3, min_samples_leaf=3, n_estimators=10;, score=0.813 total time=   0.0s\n",
      "[CV 2/5] END max_depth=3, min_samples_leaf=3, n_estimators=10;, score=0.812 total time=   0.0s\n",
      "[CV 3/5] END max_depth=3, min_samples_leaf=3, n_estimators=10;, score=0.809 total time=   0.0s\n",
      "[CV 4/5] END max_depth=3, min_samples_leaf=3, n_estimators=10;, score=0.805 total time=   0.0s\n",
      "[CV 5/5] END max_depth=3, min_samples_leaf=3, n_estimators=10;, score=0.811 total time=   0.0s\n",
      "[CV 1/5] END max_depth=3, min_samples_leaf=3, n_estimators=20;, score=0.811 total time=   0.0s\n",
      "[CV 2/5] END max_depth=3, min_samples_leaf=3, n_estimators=20;, score=0.811 total time=   0.0s\n",
      "[CV 3/5] END max_depth=3, min_samples_leaf=3, n_estimators=20;, score=0.810 total time=   0.0s\n",
      "[CV 4/5] END max_depth=3, min_samples_leaf=3, n_estimators=20;, score=0.805 total time=   0.0s\n",
      "[CV 5/5] END max_depth=3, min_samples_leaf=3, n_estimators=20;, score=0.810 total time=   0.0s\n",
      "[CV 1/5] END max_depth=3, min_samples_leaf=3, n_estimators=30;, score=0.816 total time=   0.0s\n",
      "[CV 2/5] END max_depth=3, min_samples_leaf=3, n_estimators=30;, score=0.812 total time=   0.0s\n",
      "[CV 3/5] END max_depth=3, min_samples_leaf=3, n_estimators=30;, score=0.811 total time=   0.0s\n",
      "[CV 4/5] END max_depth=3, min_samples_leaf=3, n_estimators=30;, score=0.809 total time=   0.0s\n",
      "[CV 5/5] END max_depth=3, min_samples_leaf=3, n_estimators=30;, score=0.813 total time=   0.0s\n",
      "[CV 1/5] END max_depth=3, min_samples_leaf=3, n_estimators=40;, score=0.818 total time=   0.0s\n",
      "[CV 2/5] END max_depth=3, min_samples_leaf=3, n_estimators=40;, score=0.820 total time=   0.1s\n",
      "[CV 3/5] END max_depth=3, min_samples_leaf=3, n_estimators=40;, score=0.819 total time=   0.1s\n",
      "[CV 4/5] END max_depth=3, min_samples_leaf=3, n_estimators=40;, score=0.811 total time=   0.1s\n",
      "[CV 5/5] END max_depth=3, min_samples_leaf=3, n_estimators=40;, score=0.817 total time=   0.1s\n",
      "[CV 1/5] END max_depth=3, min_samples_leaf=3, n_estimators=50;, score=0.813 total time=   0.1s\n",
      "[CV 2/5] END max_depth=3, min_samples_leaf=3, n_estimators=50;, score=0.812 total time=   0.1s\n",
      "[CV 3/5] END max_depth=3, min_samples_leaf=3, n_estimators=50;, score=0.810 total time=   0.1s\n",
      "[CV 4/5] END max_depth=3, min_samples_leaf=3, n_estimators=50;, score=0.808 total time=   0.1s\n",
      "[CV 5/5] END max_depth=3, min_samples_leaf=3, n_estimators=50;, score=0.813 total time=   0.1s\n",
      "[CV 1/5] END max_depth=3, min_samples_leaf=4, n_estimators=10;, score=0.813 total time=   0.0s\n",
      "[CV 2/5] END max_depth=3, min_samples_leaf=4, n_estimators=10;, score=0.812 total time=   0.0s\n",
      "[CV 3/5] END max_depth=3, min_samples_leaf=4, n_estimators=10;, score=0.809 total time=   0.0s\n",
      "[CV 4/5] END max_depth=3, min_samples_leaf=4, n_estimators=10;, score=0.805 total time=   0.0s\n",
      "[CV 5/5] END max_depth=3, min_samples_leaf=4, n_estimators=10;, score=0.811 total time=   0.0s\n",
      "[CV 1/5] END max_depth=3, min_samples_leaf=4, n_estimators=20;, score=0.811 total time=   0.0s\n",
      "[CV 2/5] END max_depth=3, min_samples_leaf=4, n_estimators=20;, score=0.811 total time=   0.0s\n",
      "[CV 3/5] END max_depth=3, min_samples_leaf=4, n_estimators=20;, score=0.810 total time=   0.0s\n",
      "[CV 4/5] END max_depth=3, min_samples_leaf=4, n_estimators=20;, score=0.805 total time=   0.0s\n",
      "[CV 5/5] END max_depth=3, min_samples_leaf=4, n_estimators=20;, score=0.810 total time=   0.0s\n",
      "[CV 1/5] END max_depth=3, min_samples_leaf=4, n_estimators=30;, score=0.816 total time=   0.0s\n",
      "[CV 2/5] END max_depth=3, min_samples_leaf=4, n_estimators=30;, score=0.812 total time=   0.0s\n",
      "[CV 3/5] END max_depth=3, min_samples_leaf=4, n_estimators=30;, score=0.811 total time=   0.0s\n",
      "[CV 4/5] END max_depth=3, min_samples_leaf=4, n_estimators=30;, score=0.809 total time=   0.0s\n",
      "[CV 5/5] END max_depth=3, min_samples_leaf=4, n_estimators=30;, score=0.813 total time=   0.0s\n",
      "[CV 1/5] END max_depth=3, min_samples_leaf=4, n_estimators=40;, score=0.818 total time=   0.0s\n",
      "[CV 2/5] END max_depth=3, min_samples_leaf=4, n_estimators=40;, score=0.820 total time=   0.0s\n",
      "[CV 3/5] END max_depth=3, min_samples_leaf=4, n_estimators=40;, score=0.819 total time=   0.0s\n",
      "[CV 4/5] END max_depth=3, min_samples_leaf=4, n_estimators=40;, score=0.811 total time=   0.0s\n",
      "[CV 5/5] END max_depth=3, min_samples_leaf=4, n_estimators=40;, score=0.817 total time=   0.1s\n",
      "[CV 1/5] END max_depth=3, min_samples_leaf=4, n_estimators=50;, score=0.813 total time=   0.1s\n",
      "[CV 2/5] END max_depth=3, min_samples_leaf=4, n_estimators=50;, score=0.812 total time=   0.1s\n",
      "[CV 3/5] END max_depth=3, min_samples_leaf=4, n_estimators=50;, score=0.810 total time=   0.1s\n",
      "[CV 4/5] END max_depth=3, min_samples_leaf=4, n_estimators=50;, score=0.808 total time=   0.1s\n",
      "[CV 5/5] END max_depth=3, min_samples_leaf=4, n_estimators=50;, score=0.813 total time=   0.1s\n"
     ]
    },
    {
     "name": "stdout",
     "output_type": "stream",
     "text": [
      "[CV 1/5] END max_depth=3, min_samples_leaf=5, n_estimators=10;, score=0.813 total time=   0.0s\n",
      "[CV 2/5] END max_depth=3, min_samples_leaf=5, n_estimators=10;, score=0.812 total time=   0.0s\n",
      "[CV 3/5] END max_depth=3, min_samples_leaf=5, n_estimators=10;, score=0.809 total time=   0.0s\n",
      "[CV 4/5] END max_depth=3, min_samples_leaf=5, n_estimators=10;, score=0.805 total time=   0.0s\n",
      "[CV 5/5] END max_depth=3, min_samples_leaf=5, n_estimators=10;, score=0.811 total time=   0.0s\n",
      "[CV 1/5] END max_depth=3, min_samples_leaf=5, n_estimators=20;, score=0.811 total time=   0.0s\n",
      "[CV 2/5] END max_depth=3, min_samples_leaf=5, n_estimators=20;, score=0.811 total time=   0.0s\n",
      "[CV 3/5] END max_depth=3, min_samples_leaf=5, n_estimators=20;, score=0.810 total time=   0.0s\n",
      "[CV 4/5] END max_depth=3, min_samples_leaf=5, n_estimators=20;, score=0.805 total time=   0.0s\n",
      "[CV 5/5] END max_depth=3, min_samples_leaf=5, n_estimators=20;, score=0.810 total time=   0.0s\n",
      "[CV 1/5] END max_depth=3, min_samples_leaf=5, n_estimators=30;, score=0.816 total time=   0.0s\n",
      "[CV 2/5] END max_depth=3, min_samples_leaf=5, n_estimators=30;, score=0.812 total time=   0.0s\n",
      "[CV 3/5] END max_depth=3, min_samples_leaf=5, n_estimators=30;, score=0.811 total time=   0.0s\n",
      "[CV 4/5] END max_depth=3, min_samples_leaf=5, n_estimators=30;, score=0.809 total time=   0.0s\n",
      "[CV 5/5] END max_depth=3, min_samples_leaf=5, n_estimators=30;, score=0.813 total time=   0.0s\n",
      "[CV 1/5] END max_depth=3, min_samples_leaf=5, n_estimators=40;, score=0.818 total time=   0.0s\n",
      "[CV 2/5] END max_depth=3, min_samples_leaf=5, n_estimators=40;, score=0.820 total time=   0.1s\n",
      "[CV 3/5] END max_depth=3, min_samples_leaf=5, n_estimators=40;, score=0.819 total time=   0.1s\n",
      "[CV 4/5] END max_depth=3, min_samples_leaf=5, n_estimators=40;, score=0.810 total time=   0.0s\n",
      "[CV 5/5] END max_depth=3, min_samples_leaf=5, n_estimators=40;, score=0.817 total time=   0.1s\n",
      "[CV 1/5] END max_depth=3, min_samples_leaf=5, n_estimators=50;, score=0.813 total time=   0.1s\n",
      "[CV 2/5] END max_depth=3, min_samples_leaf=5, n_estimators=50;, score=0.812 total time=   0.1s\n",
      "[CV 3/5] END max_depth=3, min_samples_leaf=5, n_estimators=50;, score=0.810 total time=   0.1s\n",
      "[CV 4/5] END max_depth=3, min_samples_leaf=5, n_estimators=50;, score=0.808 total time=   0.1s\n",
      "[CV 5/5] END max_depth=3, min_samples_leaf=5, n_estimators=50;, score=0.813 total time=   0.1s\n",
      "[CV 1/5] END max_depth=4, min_samples_leaf=2, n_estimators=10;, score=0.815 total time=   0.0s\n",
      "[CV 2/5] END max_depth=4, min_samples_leaf=2, n_estimators=10;, score=0.817 total time=   0.0s\n",
      "[CV 3/5] END max_depth=4, min_samples_leaf=2, n_estimators=10;, score=0.818 total time=   0.0s\n",
      "[CV 4/5] END max_depth=4, min_samples_leaf=2, n_estimators=10;, score=0.809 total time=   0.0s\n",
      "[CV 5/5] END max_depth=4, min_samples_leaf=2, n_estimators=10;, score=0.819 total time=   0.0s\n",
      "[CV 1/5] END max_depth=4, min_samples_leaf=2, n_estimators=20;, score=0.811 total time=   0.0s\n",
      "[CV 2/5] END max_depth=4, min_samples_leaf=2, n_estimators=20;, score=0.811 total time=   0.0s\n",
      "[CV 3/5] END max_depth=4, min_samples_leaf=2, n_estimators=20;, score=0.813 total time=   0.0s\n",
      "[CV 4/5] END max_depth=4, min_samples_leaf=2, n_estimators=20;, score=0.807 total time=   0.0s\n",
      "[CV 5/5] END max_depth=4, min_samples_leaf=2, n_estimators=20;, score=0.815 total time=   0.0s\n",
      "[CV 1/5] END max_depth=4, min_samples_leaf=2, n_estimators=30;, score=0.816 total time=   0.0s\n",
      "[CV 2/5] END max_depth=4, min_samples_leaf=2, n_estimators=30;, score=0.820 total time=   0.0s\n",
      "[CV 3/5] END max_depth=4, min_samples_leaf=2, n_estimators=30;, score=0.818 total time=   0.0s\n",
      "[CV 4/5] END max_depth=4, min_samples_leaf=2, n_estimators=30;, score=0.809 total time=   0.0s\n",
      "[CV 5/5] END max_depth=4, min_samples_leaf=2, n_estimators=30;, score=0.818 total time=   0.0s\n",
      "[CV 1/5] END max_depth=4, min_samples_leaf=2, n_estimators=40;, score=0.818 total time=   0.0s\n",
      "[CV 2/5] END max_depth=4, min_samples_leaf=2, n_estimators=40;, score=0.821 total time=   0.0s\n",
      "[CV 3/5] END max_depth=4, min_samples_leaf=2, n_estimators=40;, score=0.821 total time=   0.1s\n",
      "[CV 4/5] END max_depth=4, min_samples_leaf=2, n_estimators=40;, score=0.809 total time=   0.0s\n",
      "[CV 5/5] END max_depth=4, min_samples_leaf=2, n_estimators=40;, score=0.821 total time=   0.1s\n",
      "[CV 1/5] END max_depth=4, min_samples_leaf=2, n_estimators=50;, score=0.817 total time=   0.1s\n",
      "[CV 2/5] END max_depth=4, min_samples_leaf=2, n_estimators=50;, score=0.821 total time=   0.1s\n",
      "[CV 3/5] END max_depth=4, min_samples_leaf=2, n_estimators=50;, score=0.821 total time=   0.1s\n",
      "[CV 4/5] END max_depth=4, min_samples_leaf=2, n_estimators=50;, score=0.810 total time=   0.1s\n",
      "[CV 5/5] END max_depth=4, min_samples_leaf=2, n_estimators=50;, score=0.818 total time=   0.1s\n",
      "[CV 1/5] END max_depth=4, min_samples_leaf=3, n_estimators=10;, score=0.815 total time=   0.0s\n",
      "[CV 2/5] END max_depth=4, min_samples_leaf=3, n_estimators=10;, score=0.817 total time=   0.0s\n",
      "[CV 3/5] END max_depth=4, min_samples_leaf=3, n_estimators=10;, score=0.818 total time=   0.0s\n",
      "[CV 4/5] END max_depth=4, min_samples_leaf=3, n_estimators=10;, score=0.809 total time=   0.0s\n",
      "[CV 5/5] END max_depth=4, min_samples_leaf=3, n_estimators=10;, score=0.819 total time=   0.0s\n",
      "[CV 1/5] END max_depth=4, min_samples_leaf=3, n_estimators=20;, score=0.812 total time=   0.0s\n",
      "[CV 2/5] END max_depth=4, min_samples_leaf=3, n_estimators=20;, score=0.811 total time=   0.0s\n",
      "[CV 3/5] END max_depth=4, min_samples_leaf=3, n_estimators=20;, score=0.814 total time=   0.0s\n",
      "[CV 4/5] END max_depth=4, min_samples_leaf=3, n_estimators=20;, score=0.807 total time=   0.0s\n",
      "[CV 5/5] END max_depth=4, min_samples_leaf=3, n_estimators=20;, score=0.815 total time=   0.0s\n",
      "[CV 1/5] END max_depth=4, min_samples_leaf=3, n_estimators=30;, score=0.816 total time=   0.0s\n",
      "[CV 2/5] END max_depth=4, min_samples_leaf=3, n_estimators=30;, score=0.820 total time=   0.0s\n",
      "[CV 3/5] END max_depth=4, min_samples_leaf=3, n_estimators=30;, score=0.818 total time=   0.0s\n",
      "[CV 4/5] END max_depth=4, min_samples_leaf=3, n_estimators=30;, score=0.809 total time=   0.0s\n",
      "[CV 5/5] END max_depth=4, min_samples_leaf=3, n_estimators=30;, score=0.818 total time=   0.0s\n",
      "[CV 1/5] END max_depth=4, min_samples_leaf=3, n_estimators=40;, score=0.818 total time=   0.1s\n",
      "[CV 2/5] END max_depth=4, min_samples_leaf=3, n_estimators=40;, score=0.821 total time=   0.1s\n",
      "[CV 3/5] END max_depth=4, min_samples_leaf=3, n_estimators=40;, score=0.820 total time=   0.1s\n",
      "[CV 4/5] END max_depth=4, min_samples_leaf=3, n_estimators=40;, score=0.809 total time=   0.1s\n",
      "[CV 5/5] END max_depth=4, min_samples_leaf=3, n_estimators=40;, score=0.821 total time=   0.1s\n",
      "[CV 1/5] END max_depth=4, min_samples_leaf=3, n_estimators=50;, score=0.817 total time=   0.1s\n",
      "[CV 2/5] END max_depth=4, min_samples_leaf=3, n_estimators=50;, score=0.821 total time=   0.1s\n",
      "[CV 3/5] END max_depth=4, min_samples_leaf=3, n_estimators=50;, score=0.821 total time=   0.1s\n",
      "[CV 4/5] END max_depth=4, min_samples_leaf=3, n_estimators=50;, score=0.810 total time=   0.1s\n",
      "[CV 5/5] END max_depth=4, min_samples_leaf=3, n_estimators=50;, score=0.818 total time=   0.1s\n",
      "[CV 1/5] END max_depth=4, min_samples_leaf=4, n_estimators=10;, score=0.815 total time=   0.0s\n",
      "[CV 2/5] END max_depth=4, min_samples_leaf=4, n_estimators=10;, score=0.817 total time=   0.0s\n",
      "[CV 3/5] END max_depth=4, min_samples_leaf=4, n_estimators=10;, score=0.818 total time=   0.0s\n",
      "[CV 4/5] END max_depth=4, min_samples_leaf=4, n_estimators=10;, score=0.809 total time=   0.0s\n",
      "[CV 5/5] END max_depth=4, min_samples_leaf=4, n_estimators=10;, score=0.819 total time=   0.0s\n",
      "[CV 1/5] END max_depth=4, min_samples_leaf=4, n_estimators=20;, score=0.811 total time=   0.0s\n",
      "[CV 2/5] END max_depth=4, min_samples_leaf=4, n_estimators=20;, score=0.811 total time=   0.0s\n",
      "[CV 3/5] END max_depth=4, min_samples_leaf=4, n_estimators=20;, score=0.814 total time=   0.0s\n",
      "[CV 4/5] END max_depth=4, min_samples_leaf=4, n_estimators=20;, score=0.807 total time=   0.0s\n",
      "[CV 5/5] END max_depth=4, min_samples_leaf=4, n_estimators=20;, score=0.814 total time=   0.0s\n",
      "[CV 1/5] END max_depth=4, min_samples_leaf=4, n_estimators=30;, score=0.815 total time=   0.0s\n",
      "[CV 2/5] END max_depth=4, min_samples_leaf=4, n_estimators=30;, score=0.820 total time=   0.0s\n"
     ]
    },
    {
     "name": "stdout",
     "output_type": "stream",
     "text": [
      "[CV 3/5] END max_depth=4, min_samples_leaf=4, n_estimators=30;, score=0.819 total time=   0.0s\n",
      "[CV 4/5] END max_depth=4, min_samples_leaf=4, n_estimators=30;, score=0.810 total time=   0.0s\n",
      "[CV 5/5] END max_depth=4, min_samples_leaf=4, n_estimators=30;, score=0.818 total time=   0.0s\n",
      "[CV 1/5] END max_depth=4, min_samples_leaf=4, n_estimators=40;, score=0.818 total time=   0.1s\n",
      "[CV 2/5] END max_depth=4, min_samples_leaf=4, n_estimators=40;, score=0.821 total time=   0.1s\n",
      "[CV 3/5] END max_depth=4, min_samples_leaf=4, n_estimators=40;, score=0.820 total time=   0.0s\n",
      "[CV 4/5] END max_depth=4, min_samples_leaf=4, n_estimators=40;, score=0.809 total time=   0.1s\n",
      "[CV 5/5] END max_depth=4, min_samples_leaf=4, n_estimators=40;, score=0.820 total time=   0.1s\n",
      "[CV 1/5] END max_depth=4, min_samples_leaf=4, n_estimators=50;, score=0.817 total time=   0.1s\n",
      "[CV 2/5] END max_depth=4, min_samples_leaf=4, n_estimators=50;, score=0.820 total time=   0.1s\n",
      "[CV 3/5] END max_depth=4, min_samples_leaf=4, n_estimators=50;, score=0.821 total time=   0.1s\n",
      "[CV 4/5] END max_depth=4, min_samples_leaf=4, n_estimators=50;, score=0.810 total time=   0.1s\n",
      "[CV 5/5] END max_depth=4, min_samples_leaf=4, n_estimators=50;, score=0.817 total time=   0.1s\n",
      "[CV 1/5] END max_depth=4, min_samples_leaf=5, n_estimators=10;, score=0.815 total time=   0.0s\n",
      "[CV 2/5] END max_depth=4, min_samples_leaf=5, n_estimators=10;, score=0.817 total time=   0.0s\n",
      "[CV 3/5] END max_depth=4, min_samples_leaf=5, n_estimators=10;, score=0.818 total time=   0.0s\n",
      "[CV 4/5] END max_depth=4, min_samples_leaf=5, n_estimators=10;, score=0.809 total time=   0.0s\n",
      "[CV 5/5] END max_depth=4, min_samples_leaf=5, n_estimators=10;, score=0.819 total time=   0.0s\n",
      "[CV 1/5] END max_depth=4, min_samples_leaf=5, n_estimators=20;, score=0.811 total time=   0.0s\n",
      "[CV 2/5] END max_depth=4, min_samples_leaf=5, n_estimators=20;, score=0.814 total time=   0.0s\n",
      "[CV 3/5] END max_depth=4, min_samples_leaf=5, n_estimators=20;, score=0.812 total time=   0.0s\n",
      "[CV 4/5] END max_depth=4, min_samples_leaf=5, n_estimators=20;, score=0.808 total time=   0.0s\n",
      "[CV 5/5] END max_depth=4, min_samples_leaf=5, n_estimators=20;, score=0.814 total time=   0.0s\n",
      "[CV 1/5] END max_depth=4, min_samples_leaf=5, n_estimators=30;, score=0.815 total time=   0.0s\n",
      "[CV 2/5] END max_depth=4, min_samples_leaf=5, n_estimators=30;, score=0.819 total time=   0.0s\n",
      "[CV 3/5] END max_depth=4, min_samples_leaf=5, n_estimators=30;, score=0.819 total time=   0.0s\n",
      "[CV 4/5] END max_depth=4, min_samples_leaf=5, n_estimators=30;, score=0.810 total time=   0.0s\n",
      "[CV 5/5] END max_depth=4, min_samples_leaf=5, n_estimators=30;, score=0.818 total time=   0.0s\n",
      "[CV 1/5] END max_depth=4, min_samples_leaf=5, n_estimators=40;, score=0.818 total time=   0.0s\n",
      "[CV 2/5] END max_depth=4, min_samples_leaf=5, n_estimators=40;, score=0.821 total time=   0.1s\n",
      "[CV 3/5] END max_depth=4, min_samples_leaf=5, n_estimators=40;, score=0.821 total time=   0.1s\n",
      "[CV 4/5] END max_depth=4, min_samples_leaf=5, n_estimators=40;, score=0.809 total time=   0.1s\n",
      "[CV 5/5] END max_depth=4, min_samples_leaf=5, n_estimators=40;, score=0.820 total time=   0.1s\n",
      "[CV 1/5] END max_depth=4, min_samples_leaf=5, n_estimators=50;, score=0.817 total time=   0.1s\n",
      "[CV 2/5] END max_depth=4, min_samples_leaf=5, n_estimators=50;, score=0.820 total time=   0.1s\n",
      "[CV 3/5] END max_depth=4, min_samples_leaf=5, n_estimators=50;, score=0.821 total time=   0.1s\n",
      "[CV 4/5] END max_depth=4, min_samples_leaf=5, n_estimators=50;, score=0.810 total time=   0.1s\n",
      "[CV 5/5] END max_depth=4, min_samples_leaf=5, n_estimators=50;, score=0.817 total time=   0.1s\n"
     ]
    },
    {
     "data": {
      "text/plain": [
       "GridSearchCV(cv=5, estimator=RandomForestClassifier(random_state=95),\n",
       "             param_grid={'max_depth': [2, 3, 4],\n",
       "                         'min_samples_leaf': [2, 3, 4, 5],\n",
       "                         'n_estimators': [10, 20, 30, 40, 50]},\n",
       "             scoring='accuracy', verbose=3)"
      ]
     },
     "execution_count": 33,
     "metadata": {},
     "output_type": "execute_result"
    }
   ],
   "source": [
    "params = {'n_estimators':[10,20,30,40,50], 'max_depth':[2,3,4],'min_samples_leaf':[2,3,4,5]}\n",
    "gridcv = GridSearchCV(RandomForestClassifier(random_state=95),\n",
    "                      param_grid=params,cv=5,verbose=3, scoring='accuracy')\n",
    "gridcv.fit(X,y)"
   ]
  },
  {
   "cell_type": "code",
   "execution_count": 34,
   "id": "b85f9fa3",
   "metadata": {},
   "outputs": [
    {
     "data": {
      "text/plain": [
       "{'max_depth': 4, 'min_samples_leaf': 2, 'n_estimators': 40}"
      ]
     },
     "execution_count": 34,
     "metadata": {},
     "output_type": "execute_result"
    }
   ],
   "source": [
    "gridcv.best_params_"
   ]
  },
  {
   "cell_type": "code",
   "execution_count": 35,
   "id": "69ac3992",
   "metadata": {},
   "outputs": [
    {
     "data": {
      "text/plain": [
       "RandomForestClassifier(max_depth=4, min_samples_leaf=2, n_estimators=40,\n",
       "                       random_state=95)"
      ]
     },
     "execution_count": 35,
     "metadata": {},
     "output_type": "execute_result"
    }
   ],
   "source": [
    "gridcv.best_estimator_"
   ]
  },
  {
   "cell_type": "code",
   "execution_count": 36,
   "id": "f9343bba",
   "metadata": {},
   "outputs": [
    {
     "data": {
      "text/plain": [
       "0.8179500000000001"
      ]
     },
     "execution_count": 36,
     "metadata": {},
     "output_type": "execute_result"
    }
   ],
   "source": [
    "gridcv.best_score_"
   ]
  },
  {
   "cell_type": "code",
   "execution_count": 37,
   "id": "6d7f381e",
   "metadata": {},
   "outputs": [],
   "source": [
    "final_model = RandomForestClassifier(max_depth=5, min_samples_leaf=5, min_samples_split=6,n_estimators=50)"
   ]
  },
  {
   "cell_type": "code",
   "execution_count": 38,
   "id": "877bbf89",
   "metadata": {},
   "outputs": [
    {
     "data": {
      "text/plain": [
       "RandomForestClassifier(max_depth=5, min_samples_leaf=5, min_samples_split=6,\n",
       "                       n_estimators=50)"
      ]
     },
     "execution_count": 38,
     "metadata": {},
     "output_type": "execute_result"
    }
   ],
   "source": [
    "final_model.fit(X,y)"
   ]
  },
  {
   "cell_type": "code",
   "execution_count": 39,
   "id": "bf5fa859",
   "metadata": {},
   "outputs": [],
   "source": [
    "yp = final_model.predict(df_test[selected_cols])\n",
    "\n",
    "df_test['defaulter'] = yp\n",
    "#df_test[['Id','defaulter']].to_csv('sub4.csv',index=False)"
   ]
  },
  {
   "cell_type": "code",
   "execution_count": 40,
   "id": "d8f42c0c",
   "metadata": {},
   "outputs": [],
   "source": [
    "from sklearn.tree import DecisionTreeClassifier"
   ]
  },
  {
   "cell_type": "code",
   "execution_count": 41,
   "id": "d24e14db",
   "metadata": {},
   "outputs": [
    {
     "data": {
      "text/plain": [
       "DecisionTreeClassifier()"
      ]
     },
     "execution_count": 41,
     "metadata": {},
     "output_type": "execute_result"
    }
   ],
   "source": [
    "model2 = DecisionTreeClassifier()\n",
    "model2.fit(X,y)"
   ]
  },
  {
   "cell_type": "code",
   "execution_count": 42,
   "id": "03304f37",
   "metadata": {},
   "outputs": [
    {
     "data": {
      "text/plain": [
       "0.87915"
      ]
     },
     "execution_count": 42,
     "metadata": {},
     "output_type": "execute_result"
    }
   ],
   "source": [
    "model2.score(X,y)"
   ]
  },
  {
   "cell_type": "code",
   "execution_count": 43,
   "id": "64924b58",
   "metadata": {},
   "outputs": [],
   "source": [
    "yp = model2.predict(df_test[selected_cols])\n",
    "\n",
    "df_test['defaulter'] = yp\n",
    "df_test[['Id','defaulter']].to_csv('subDT5.csv',index=False)"
   ]
  }
 ],
 "metadata": {
  "kernelspec": {
   "display_name": "Python 3 (ipykernel)",
   "language": "python",
   "name": "python3"
  },
  "language_info": {
   "codemirror_mode": {
    "name": "ipython",
    "version": 3
   },
   "file_extension": ".py",
   "mimetype": "text/x-python",
   "name": "python",
   "nbconvert_exporter": "python",
   "pygments_lexer": "ipython3",
   "version": "3.9.13"
  }
 },
 "nbformat": 4,
 "nbformat_minor": 5
}
